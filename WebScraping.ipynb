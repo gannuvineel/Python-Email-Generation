{
 "cells": [
  {
   "cell_type": "code",
   "execution_count": 155,
   "id": "b0a8d0e6",
   "metadata": {},
   "outputs": [],
   "source": [
    "#pip install tiktoken"
   ]
  },
  {
   "cell_type": "code",
   "execution_count": 156,
   "id": "40607fbd",
   "metadata": {},
   "outputs": [],
   "source": [
    "#pip install chardet"
   ]
  },
  {
   "cell_type": "code",
   "execution_count": 157,
   "id": "6662e646",
   "metadata": {},
   "outputs": [],
   "source": [
    "#pip install requests"
   ]
  },
  {
   "cell_type": "code",
   "execution_count": 158,
   "id": "c69f3585",
   "metadata": {},
   "outputs": [],
   "source": [
    "#pip install html2text"
   ]
  },
  {
   "cell_type": "code",
   "execution_count": 159,
   "id": "83552339",
   "metadata": {},
   "outputs": [],
   "source": [
    "#pip install langchain"
   ]
  },
  {
   "cell_type": "code",
   "execution_count": 160,
   "id": "341efdee",
   "metadata": {},
   "outputs": [],
   "source": [
    "#pip install ipywidgets"
   ]
  },
  {
   "cell_type": "code",
   "execution_count": 161,
   "id": "ae70ae65",
   "metadata": {},
   "outputs": [],
   "source": [
    "import csv\n",
    "import requests\n",
    "from datetime import datetime\n",
    "from ipywidgets import widgets, Output, Layout, VBox, HBox\n",
    "import html2text\n",
    "from IPython.display import display, clear_output, HTML\n",
    "import re\n",
    "import os\n",
    "\n",
    "from langchain.chains.summarize import load_summarize_chain\n",
    "from langchain.llms import OpenAI\n",
    "from langchain.text_splitter import RecursiveCharacterTextSplitter\n",
    "from langchain.prompts import PromptTemplate"
   ]
  },
  {
   "cell_type": "code",
   "execution_count": 162,
   "id": "2ab2d446",
   "metadata": {},
   "outputs": [],
   "source": [
    "# Set up GUI elements\n",
    "\n",
    "# Default values for Scrapper API Key and OpenAI API Key\n",
    "openai_api_key = ''\n",
    "scrapper_api_key = ''\n",
    "\n",
    "# Create text input widgets for Scrapper API Key and OpenAI API Key with default values\n",
    "scrapper_api_key_input = widgets.Text(\n",
    "    value=scrapper_api_key,\n",
    "    placeholder='Enter Scrapper API Key',\n",
    "    description='Scrapper:'\n",
    ")\n",
    "\n",
    "openai_api_key_input = widgets.Text(\n",
    "    value=openai_api_key,\n",
    "    placeholder='Enter OpenAI API Key',\n",
    "    description='OpenAI:'\n",
    ")\n",
    "\n",
    "# Upload File Button\n",
    "upload_button = widgets.FileUpload(\n",
    "    accept='.csv',\n",
    "    multiple=False,\n",
    "    description='Upload File'\n",
    ")\n",
    "\n",
    "# Scrap Data Button\n",
    "scrap_button = widgets.Button(description='Scrap Data')\n",
    "\n",
    "# Summarize Data Busson\n",
    "summary_button = widgets.Button(description='Summarize Data')\n",
    "\n",
    "# Map Selector\n",
    "map_selector = widgets.SelectMultiple(\n",
    "    options=[],\n",
    "    description='Map:',\n",
    "    layout=Layout(width='40%')\n",
    ")\n",
    "\n",
    "# Reduce Selector\n",
    "reduce_selector = widgets.SelectMultiple(\n",
    "    options=[],\n",
    "    description='Reduce:',\n",
    "    layout=Layout(width='40%')\n",
    ")\n",
    "\n",
    "# Map Prompt Text Area\n",
    "prompt_input_map = widgets.Textarea(\n",
    "    value='',\n",
    "    placeholder='Enter prompt text (Map)...',\n",
    "    description='Prompt (M):',\n",
    "        layout=Layout(width='100%', height='150px')\n",
    ")\n",
    "\n",
    "# Reduce Prompt Text Area\n",
    "prompt_input_reduce = widgets.Textarea(\n",
    "    value='',\n",
    "    placeholder='Enter prompt text (Reduce)...',\n",
    "    description='Prompt (R):',\n",
    "        layout=Layout(width='100%', height='150px')\n",
    ")\n",
    "\n",
    "# Slider widget\n",
    "slider = widgets.FloatSlider(\n",
    "    value=0.7,  # Initial value\n",
    "    min=0,      # Minimum value\n",
    "    max=1,      # Maximum value\n",
    "    step=0.01,  # Step size\n",
    "    description='Temperature:'\n",
    ")\n",
    "\n",
    "output = Output()\n",
    "\n",
    "# Create a placeholder for uploaded data\n",
    "uploaded_data = None"
   ]
  },
  {
   "cell_type": "code",
   "execution_count": 163,
   "id": "f4d911be",
   "metadata": {},
   "outputs": [],
   "source": [
    "# Set up Langchain elements\n",
    "# Split up the texts so you don't run into token limits\n",
    "text_splitter = RecursiveCharacterTextSplitter(\n",
    "    # Set a really small chunk size, just to show.\n",
    "    chunk_size = 8000,\n",
    "    chunk_overlap  = 0\n",
    ")"
   ]
  },
  {
   "cell_type": "code",
   "execution_count": 164,
   "id": "36b1f4d4",
   "metadata": {},
   "outputs": [],
   "source": [
    "def check_usage():\n",
    "    # API headers\n",
    "    headers = {'Authorization': f'Bearer {openai_api_key_input.value}'}\n",
    "\n",
    "    # API endpoint\n",
    "    url = 'https://api.openai.com/v1/usage'\n",
    "\n",
    "    # Get the usage date for current date\n",
    "    date = datetime.now()\n",
    "\n",
    "    # Parameters for API request\n",
    "    params = {'date': date.strftime('%Y-%m-%d')}\n",
    "\n",
    "    # Send API request and get response\n",
    "    response = requests.get(url, headers=headers, params=params)\n",
    "    print(response.json())\n",
    "    if(response.json()['data']):\n",
    "        usage_data = response.json()['data']\n",
    "    \n",
    "    print(usage_data)\n"
   ]
  },
  {
   "cell_type": "code",
   "execution_count": 165,
   "id": "03b6e4ad",
   "metadata": {},
   "outputs": [],
   "source": [
    "# Set up functions\n",
    "# Read CSV file and returns the data\n",
    "def read_csv(file_path, encoding='utf-8'):\n",
    "    companies = []\n",
    "    with open(file_path, 'r', encoding=encoding) as csv_file:\n",
    "        csv_reader = csv.DictReader(csv_file)\n",
    "        for row in csv_reader:\n",
    "            companies.append(row)\n",
    "    return companies"
   ]
  },
  {
   "cell_type": "code",
   "execution_count": 166,
   "id": "e2861dc0",
   "metadata": {},
   "outputs": [],
   "source": [
    "# Scraps and saves the data to the output file\n",
    "def scrape_and_save_data(data):\n",
    "    with output:\n",
    "        clear_output(wait=True)\n",
    "\n",
    "        # Assume 'Company Website' is a column in the CSV\n",
    "        company_website_column = 'Company Website'\n",
    "        new_column_name = 'Scraped Content'\n",
    "\n",
    "        for row in data:\n",
    "            company_website = row[company_website_column]\n",
    "            # Calls the scrape_website function\n",
    "            scraped_content = scrape_website(company_website)\n",
    "            row[new_column_name] = scraped_content\n",
    "\n",
    "        output_csv_path = 'scraped_data.csv'\n",
    "        with open(output_csv_path, 'w', newline='', encoding='utf-8') as csv_file:\n",
    "            writer = csv.DictWriter(csv_file, fieldnames=data[0].keys())\n",
    "            writer.writeheader()\n",
    "            writer.writerows(data)"
   ]
  },
  {
   "cell_type": "code",
   "execution_count": 167,
   "id": "12a1a653",
   "metadata": {},
   "outputs": [],
   "source": [
    "# Scraps the website using scraperapi and returns the scraped data\n",
    "def scrape_website(url):\n",
    "    #print('scrapper api key', scrapper_api_key_input.value)\n",
    "    payload = {'api_key': scrapper_api_key_input.value, 'url': url}\n",
    "    scraped_data = requests.get('http://api.scraperapi.com', params=payload)\n",
    "    if scraped_data.text.strip():\n",
    "        text_maker = html2text.HTML2Text()\n",
    "        text_maker.ignore_links = True\n",
    "        text_maker.SKIP_INTERNAL_LINKS  = True\n",
    "        text_maker.IGNORE_ANCHORS = True\n",
    "        text_maker.IGNORE_IMAGES = True\n",
    "        text_maker.UNICODE_SNOB = True\n",
    "        text_maker.ESCAPE_SNOB = True\n",
    "        scraped_text_data = text_maker.handle(scraped_data.text)\n",
    "       \n",
    "    if scraped_text_data.strip():\n",
    "        return re.sub(r\"http\\S+\", \"\", scraped_text_data.replace('\\n', '\\\\n').replace('\\t', '\\\\t'))\n",
    "    \n",
    "    return \"\""
   ]
  },
  {
   "cell_type": "code",
   "execution_count": 168,
   "id": "92f442e1",
   "metadata": {},
   "outputs": [],
   "source": [
    "# Uses langchain's map-reduce to summarize and generate the personalized emails\n",
    "def summarize_and_save_data(data, map_prompt, combine_prompt):\n",
    "    #print('openai api key', openai_api_key_input.value)\n",
    "    llm = OpenAI(model='text-davinci-003', temperature=slider.value, openai_api_key=openai_api_key_input.value)\n",
    "    \n",
    "    map_columns = re.findall(r'\\{([^}]+)\\}', map_prompt)\n",
    "    map_input_variables = [match for match in map_columns]\n",
    "    map_input_variables = list(dict.fromkeys(map_input_variables))\n",
    "    #print(map_input_variables)\n",
    "    map_prompt_template = PromptTemplate(template=map_prompt, input_variables=map_input_variables)\n",
    "    \n",
    "    combine_columns = re.findall(r'\\{([^}]+)\\}', combine_prompt)\n",
    "    combine_input_variables = [match for match in combine_columns]\n",
    "    combine_input_variables = list(dict.fromkeys(combine_input_variables))\n",
    "    #print(combine_input_variables)\n",
    "    combine_prompt_template = PromptTemplate(template=combine_prompt, input_variables=combine_input_variables)\n",
    "   \n",
    "    chain = load_summarize_chain(llm,\n",
    "                         chain_type=\"map_reduce\",\n",
    "                         map_prompt=map_prompt_template,\n",
    "                         combine_prompt=combine_prompt_template,\n",
    "                         verbose=True\n",
    "                       )\n",
    "    \n",
    "    map_column_values = {}\n",
    "    \n",
    "    for company in data:\n",
    "        new_column_name = 'Personalized Email'\n",
    "        page_data = company['Scraped Content']\n",
    "        \n",
    "        #print('len(page_data)', len(page_data))\n",
    "        \n",
    "        chunks = text_splitter.split_text(page_data)\n",
    "        docs = text_splitter.create_documents(chunks)\n",
    "        \n",
    "        #print('docs length', len(docs))\n",
    "        #print(docs)\n",
    "        #print('chunks length', len(chunks))\n",
    "        #print(chunks)\n",
    "        \n",
    "        for map_column in map_columns:\n",
    "            if map_column != 'text':\n",
    "                map_column_values[map_column] = company[map_column]\n",
    "       \n",
    "        map_column_values[\"input_documents\"] = docs\n",
    "        \n",
    "        #print(map_column_values)\n",
    "        \n",
    "        output = chain(map_column_values)\n",
    "        \n",
    "        print (output['output_text'])\n",
    "        print (\"\\n\\n\")\n",
    "        \n",
    "        personalized_email_data = re.sub(r\"http\\S+\", \"\", output['output_text'].replace('\\n', '\\\\n').replace('\\t', '\\\\t'))\n",
    "        company[new_column_name] = personalized_email_data"
   ]
  },
  {
   "cell_type": "code",
   "execution_count": 169,
   "id": "16183654",
   "metadata": {},
   "outputs": [],
   "source": [
    "# Calls the scrape_and_save_data method when Scrap Data button is clicked\n",
    "def on_scrap_button_click(button):\n",
    "    global uploaded_data\n",
    "    input_csv_path = next(iter(upload_button.value))\n",
    "    if uploaded_data:\n",
    "        with output:\n",
    "            clear_output(wait=True)\n",
    "            print(\"Scraping data...\")\n",
    "            scrape_and_save_data(read_csv(input_csv_path))\n",
    "            print(\"Data scraped and saved!\")"
   ]
  },
  {
   "cell_type": "code",
   "execution_count": 170,
   "id": "a5c32957",
   "metadata": {},
   "outputs": [],
   "source": [
    "# Calls the summarize_and_save_data method when Summarize Data is clicked\n",
    "def on_summary_button_click(button):\n",
    "    global uploaded_data\n",
    "    input_csv_path = next(iter(upload_button.value))\n",
    "    if uploaded_data:\n",
    "        with output:\n",
    "            clear_output(wait=True)\n",
    "            print(\"Summarizing data...\")\n",
    "            \n",
    "            data = read_csv(input_csv_path)\n",
    "            summarize_and_save_data(data, prompt_input_map.value, prompt_input_reduce.value)\n",
    "            \n",
    "            output_csv_path = 'personalized_email_data.csv'\n",
    "            with open(output_csv_path, 'w', newline='', encoding='utf-8') as csv_file:\n",
    "                writer = csv.DictWriter(csv_file, fieldnames=data[0].keys())\n",
    "                writer.writeheader()\n",
    "                writer.writerows(data)\n",
    "            \n",
    "            print(\"Data summarized and saved!\")"
   ]
  },
  {
   "cell_type": "code",
   "execution_count": 171,
   "id": "e76e97ec",
   "metadata": {},
   "outputs": [],
   "source": [
    "# Once the file is uploaded, this methods shows the file column names in the column selectors\n",
    "def show_columns(button):\n",
    "        global uploaded_data\n",
    "        uploaded_data = button['new']\n",
    "        scrap_button.disabled = not upload_button.value\n",
    "        if upload_button.value:\n",
    "            input_csv_path = next(iter(upload_button.value))\n",
    "                                        \n",
    "            with open(input_csv_path, 'r', encoding='utf-8') as csv_file:\n",
    "                csv_reader = csv.reader(csv_file)\n",
    "                headers = next(csv_reader)\n",
    "                map_selector.options = headers\n",
    "                reduce_selector.options = headers     \n",
    "            map_selector.options = map_selector.options + ('text',)\n",
    "            reduce_selector.options = reduce_selector.options + ('text',)    \n",
    "            \n",
    "            scrap_button.disabled = False"
   ]
  },
  {
   "cell_type": "code",
   "execution_count": 172,
   "id": "94dc674a",
   "metadata": {},
   "outputs": [],
   "source": [
    "# Sets the prompt_input_map variable whenever there is a change in the map column selector\n",
    "def on_map_selector_change(change):\n",
    "    selected_column = map_selector.value\n",
    "    if selected_column:\n",
    "        formatted_cols = [\"{{{}}}\".format(num) for num in selected_column]\n",
    "        prompt_input_map.value = ', '.join(formatted_cols)\n",
    "        "
   ]
  },
  {
   "cell_type": "code",
   "execution_count": 173,
   "id": "2e0d133a",
   "metadata": {},
   "outputs": [],
   "source": [
    "# Sets the prompt_input_reduce variable whenever there is a change in the reduce column selector\n",
    "def on_reduce_selector_change(change):\n",
    "    selected_column = change['new']\n",
    "    if selected_column:\n",
    "        formatted_cols = [\"{{{}}}\".format(num) for num in selected_column]\n",
    "        prompt_input_reduce.value = ', '.join(formatted_cols)"
   ]
  },
  {
   "cell_type": "code",
   "execution_count": 174,
   "id": "a895c12e",
   "metadata": {},
   "outputs": [],
   "source": [
    "# Define a function to handle the input for Scrapper API Key\n",
    "def handle_scrapper_api_key(change):\n",
    "    scrapper_api_key = scrapper_api_key_input.value\n",
    "    #print(f\"Scrapper API Key: {scrapper_api_key}\")\n",
    "\n",
    "# Define a function to handle the input for OpenAI API Key\n",
    "def handle_openai_api_key(change):\n",
    "    openai_api_key = openai_api_key_input.value\n",
    "    #print(f\"OpenAI API Key: {openai_api_key}\")"
   ]
  },
  {
   "cell_type": "code",
   "execution_count": 175,
   "id": "5df580c6",
   "metadata": {},
   "outputs": [],
   "source": [
    "def on_prompt_change(change):\n",
    "    summary_button.disabled = not prompt_input_map.value or not prompt_input_reduce.value"
   ]
  },
  {
   "cell_type": "code",
   "execution_count": 176,
   "id": "e383c483",
   "metadata": {
    "scrolled": false
   },
   "outputs": [
    {
     "data": {
      "application/vnd.jupyter.widget-view+json": {
       "model_id": "1140f2a7e1f64990b181542688f79ff8",
       "version_major": 2,
       "version_minor": 0
      },
      "text/plain": [
       "FloatSlider(value=0.7, description='Temperature:', max=1.0, step=0.01)"
      ]
     },
     "metadata": {},
     "output_type": "display_data"
    },
    {
     "data": {
      "application/vnd.jupyter.widget-view+json": {
       "model_id": "ddf530382260447eb365659d19364a1b",
       "version_major": 2,
       "version_minor": 0
      },
      "text/plain": [
       "Text(value='', description='Scrapper:', placeholder='Enter Scrapper API Key')"
      ]
     },
     "metadata": {},
     "output_type": "display_data"
    },
    {
     "data": {
      "application/vnd.jupyter.widget-view+json": {
       "model_id": "d37cc064359345b387ac34ff7d47d496",
       "version_major": 2,
       "version_minor": 0
      },
      "text/plain": [
       "Text(value='', description='OpenAI:', placeholder='Enter OpenAI API Key')"
      ]
     },
     "metadata": {},
     "output_type": "display_data"
    },
    {
     "data": {
      "application/vnd.jupyter.widget-view+json": {
       "model_id": "d967cd418ab84f57b62c20d1e6d7fcfc",
       "version_major": 2,
       "version_minor": 0
      },
      "text/plain": [
       "FileUpload(value={}, accept='.csv', description='Upload File')"
      ]
     },
     "metadata": {},
     "output_type": "display_data"
    },
    {
     "data": {
      "application/vnd.jupyter.widget-view+json": {
       "model_id": "1943a5bf2e2c4883b0f2f0d5e4e1068d",
       "version_major": 2,
       "version_minor": 0
      },
      "text/plain": [
       "Button(description='Scrap Data', disabled=True, style=ButtonStyle())"
      ]
     },
     "metadata": {},
     "output_type": "display_data"
    },
    {
     "data": {
      "application/vnd.jupyter.widget-view+json": {
       "model_id": "534ec434ad9446a29fa1acf76540ab0b",
       "version_major": 2,
       "version_minor": 0
      },
      "text/plain": [
       "Button(description='Summarize Data', disabled=True, style=ButtonStyle())"
      ]
     },
     "metadata": {},
     "output_type": "display_data"
    },
    {
     "data": {
      "application/vnd.jupyter.widget-view+json": {
       "model_id": "5f3e1d8b3c5e4e23aea8c00305ce06f6",
       "version_major": 2,
       "version_minor": 0
      },
      "text/plain": [
       "HBox(children=(SelectMultiple(description='Map:', layout=Layout(width='40%'), options=(), value=()), SelectMul…"
      ]
     },
     "metadata": {},
     "output_type": "display_data"
    },
    {
     "data": {
      "application/vnd.jupyter.widget-view+json": {
       "model_id": "c922c66edb53495ca8644ae8c1625b97",
       "version_major": 2,
       "version_minor": 0
      },
      "text/plain": [
       "HBox(children=(Textarea(value='', description='Prompt (M):', layout=Layout(height='150px', width='100%'), plac…"
      ]
     },
     "metadata": {},
     "output_type": "display_data"
    },
    {
     "data": {
      "application/vnd.jupyter.widget-view+json": {
       "model_id": "83cf9d5ef667420f9a86a93784f4e1b7",
       "version_major": 2,
       "version_minor": 0
      },
      "text/plain": [
       "Output()"
      ]
     },
     "metadata": {},
     "output_type": "display_data"
    }
   ],
   "source": [
    "# Set up observers\n",
    "upload_button.observe(show_columns, names='value')\n",
    "map_selector.observe(on_map_selector_change, names='value')\n",
    "reduce_selector.observe(on_reduce_selector_change, names='value')\n",
    "prompt_input_map.observe(on_prompt_change, names='value')\n",
    "prompt_input_reduce.observe(on_prompt_change, names='value')\n",
    "scrapper_api_key_input.observe(handle_scrapper_api_key, names='value')\n",
    "openai_api_key_input.observe(handle_openai_api_key, names='value')\n",
    "\n",
    "scrap_button.on_click(on_scrap_button_click)\n",
    "summary_button.on_click(on_summary_button_click)\n",
    "\n",
    "column_selectors = HBox([map_selector, reduce_selector])\n",
    "prompt_inputs = HBox([prompt_input_map, prompt_input_reduce])\n",
    "\n",
    "# Disable Scrap and Summary button by default\n",
    "scrap_button.disabled = True\n",
    "summary_button.disabled = True\n",
    "\n",
    "# Check Usage\n",
    "# check_usage()\n",
    "\n",
    "# Display the slider and the variable\n",
    "display(slider)\n",
    "\n",
    "# Display GUI elements\n",
    "display(scrapper_api_key_input)\n",
    "display(openai_api_key_input)\n",
    "display(upload_button)\n",
    "display(scrap_button)\n",
    "display(summary_button)\n",
    "display(column_selectors)\n",
    "display(prompt_inputs)\n",
    "display(output)"
   ]
  }
 ],
 "metadata": {
  "kernelspec": {
   "display_name": "Python 3 (ipykernel)",
   "language": "python",
   "name": "python3"
  },
  "language_info": {
   "codemirror_mode": {
    "name": "ipython",
    "version": 3
   },
   "file_extension": ".py",
   "mimetype": "text/x-python",
   "name": "python",
   "nbconvert_exporter": "python",
   "pygments_lexer": "ipython3",
   "version": "3.9.13"
  }
 },
 "nbformat": 4,
 "nbformat_minor": 5
}
